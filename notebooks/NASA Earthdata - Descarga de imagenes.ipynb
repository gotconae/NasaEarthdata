{
 "cells": [
  {
   "cell_type": "markdown",
   "id": "4f550238-080b-4c5a-82af-3e300e55c0f6",
   "metadata": {},
   "source": [
    "# 1. Documentacion de Referencia"
   ]
  },
  {
   "cell_type": "markdown",
   "id": "f91866cc-0406-413a-8967-57e0aaf460f7",
   "metadata": {},
   "source": [
    "## 1.1 NSIDC data\n",
    "\n",
    "* NSIDC Home https://nsidc.org/home\n",
    "\n",
    "* Explore web services, interactive tutorials, and other tools to access and work with NSIDC data https://nsidc.org/data/user-resources/data-tools\n",
    "\n",
    "* Programmatic Data Access Guide https://nsidc.org/data/user-resources/help-center/programmatic-data-access-guide\n",
    "\n",
    "<!-- * NSIDC-Data-Access-Notebook https://github.com/nsidc/NSIDC-Data-Access-Notebook -->"
   ]
  },
  {
   "cell_type": "markdown",
   "id": "ad96ddd0-7a30-4960-af1c-7b4c6dae2df8",
   "metadata": {},
   "source": [
    "## 1.2 SMAP\n",
    "\n",
    "* Earth - CMR Search - SMAP https://cmr.earthdata.nasa.gov/search/concepts/C2136471727-NSIDC_ECS.html\n",
    "\n",
    "* NSICD - SMAP https://nsidc.org/data/spl3smp_e/versions/5\n",
    "\n",
    "\n",
    "* Interfaz grafica web https://worldview.earthdata.nasa.gov/?v=-207.78934227214495,-113.17005215620739,139.7262447856823,55.3388080265203&l=SMAP_L3_Passive_Enhanced_Day_Soil_Moisture(hidden),BlueMarble_NextGeneration(hidden),MODIS_Terra_CorrectedReflectance_TrueColor&lg=false&t=2015-08-08-T16%3A00%3A00Z\n",
    "\n"
   ]
  },
  {
   "cell_type": "code",
   "execution_count": 144,
   "id": "068390d2-c509-464b-8053-7fb011f7aeae",
   "metadata": {},
   "outputs": [],
   "source": [
    "#Import packages\n",
    "\n",
    "import time\n",
    "from datetime import datetime\n",
    "import inspect\n",
    "\n",
    "from utils import load_secrets\n",
    "from utils import temporal_range\n",
    "from utils import request_urls_list\n",
    "from utils import create_root_folder\n",
    "from utils import create_folder\n",
    "from utils import delete_folder\n",
    "from utils import dict_folders\n",
    "from utils import create_logs_file\n",
    "from utils import write_log_message\n",
    "from utils import unzip\n",
    "from utils import move_images\n",
    "from utils import execute_request\n",
    "from utils import check_execution_result\n",
    "\n",
    "import parameters\n",
    "from parameters import *"
   ]
  },
  {
   "cell_type": "markdown",
   "id": "2c9b9ab8-3894-4588-b938-e7c7c0b6115c",
   "metadata": {},
   "source": [
    "## ETAPA N°0: create_logs_file()"
   ]
  },
  {
   "cell_type": "code",
   "execution_count": 145,
   "id": "39df2e7a-c35d-4d02-a30f-3b2d470b46d0",
   "metadata": {},
   "outputs": [],
   "source": [
    "execution_time_start = time.time()\n",
    "list_parameters = [v for v in dir(parameters) if v[:2] != \"__\"]\n",
    "parameters_values = dict(inspect.getmembers(parameters))"
   ]
  },
  {
   "cell_type": "code",
   "execution_count": 146,
   "id": "730aadac-5cec-4965-98d7-22bb58dba9f7",
   "metadata": {},
   "outputs": [],
   "source": [
    "datetime_execution = datetime.today().isoformat('T','seconds')\n",
    "time_now = datetime_execution.replace(':','-')\n",
    "name_file_log = f'log_ejecucion_{time_now}_{short_name}_{version}_{start_date}_{end_date}.txt'\n",
    "status_code_log_file,status_message_log_file,log = create_logs_file(name_file_log)"
   ]
  },
  {
   "cell_type": "code",
   "execution_count": 147,
   "id": "1519a9fb-09b6-4b1d-b26b-69fc4966fc68",
   "metadata": {},
   "outputs": [],
   "source": [
    "message = f'ATENCION! --> SE INICIA LA EJECUCION DEL PROCESO [{short_name}] CON FECHA: [{datetime_execution}]'\n",
    "write_log_message(log,'#'*len(message))\n",
    "write_log_message(log,message)\n",
    "write_log_message(log,'#'*len(message))\n",
    "\n",
    "message = f'LOS PARAMETROS A UTILIZAR QUE SE ENCUENTRAN EN EL SCRIPT parameters.py SON:'\n",
    "write_log_message(log,'#'*150)\n",
    "write_log_message(log,message)\n",
    "for parameter in list_parameters:\n",
    "    valor = parameters_values[parameter]\n",
    "    message = f'\\t{parameter} = {valor}'\n",
    "    write_log_message(log,message)\n",
    "write_log_message(log,'#'*150)"
   ]
  },
  {
   "cell_type": "markdown",
   "id": "cc61fe57-f615-4047-9d28-f8f3cb6eaec6",
   "metadata": {},
   "source": [
    "## ETAPA N°1: load_secrets()"
   ]
  },
  {
   "cell_type": "code",
   "execution_count": 148,
   "id": "6796784d-9f47-471d-ad58-e8ee03351cfc",
   "metadata": {},
   "outputs": [],
   "source": [
    "username,password,email = load_secrets()"
   ]
  },
  {
   "cell_type": "code",
   "execution_count": 149,
   "id": "e9788849-f2e9-4b90-872b-cd41e98277c6",
   "metadata": {},
   "outputs": [],
   "source": [
    "status_code_load_secrets = 'OK'\n",
    "status_message_load_secrets = ''"
   ]
  },
  {
   "cell_type": "code",
   "execution_count": 150,
   "id": "2fb41558-7419-4624-817e-0b82a46c2c7a",
   "metadata": {},
   "outputs": [],
   "source": [
    "message = f'#ETAPA N°1: Se cargan los secretos para realizar la conexion al microservicio (API) de EARTHDATA --> load_secrets() --> Estado:[{status_code_load_secrets}] --> Mensaje:[{status_message_load_secrets}] --> {round(time.time() - execution_time_start,4)} seg'\n",
    "write_log_message(log,message)"
   ]
  },
  {
   "cell_type": "markdown",
   "id": "b88090b3-a252-48ab-b347-a97d68d85029",
   "metadata": {},
   "source": [
    "## ETAPA N°2: temporal_range()"
   ]
  },
  {
   "cell_type": "code",
   "execution_count": 151,
   "id": "9b3c61ba-f6a6-44cd-af78-cf8d9c3bb245",
   "metadata": {},
   "outputs": [],
   "source": [
    "status_code_time,status_message_time,time_range = temporal_range(start_date,start_time,end_date,end_time)"
   ]
  },
  {
   "cell_type": "code",
   "execution_count": 152,
   "id": "7c966dd5-7847-4881-9073-9ace7ee50a0d",
   "metadata": {},
   "outputs": [],
   "source": [
    "message = f'#ETAPA N°2: Se construye la ventana temporal [{time_range}] a utilizar en el request --> temporal_range() --> Estado:[{status_code_time}] --> Mensaje:[{status_message_time}] --> {round(time.time() - execution_time_start,4)} seg'\n",
    "write_log_message(log,message)"
   ]
  },
  {
   "cell_type": "markdown",
   "id": "1aeabafa-ff09-4648-bfd8-765391ce82e6",
   "metadata": {},
   "source": [
    "## ETAPA N°3: request_urls_list()"
   ]
  },
  {
   "cell_type": "code",
   "execution_count": 153,
   "id": "69b2498c-703a-4de6-9fc1-f59d8d4687ec",
   "metadata": {},
   "outputs": [],
   "source": [
    "#Listado de parametros a incluir en el Request\n",
    "param_dict = {'short_name': short_name, \n",
    "              'version': version,\n",
    "              'format': formato,\n",
    "              'time': time_range,\n",
    "              'Coverage': '',\n",
    "              'projection': projection,\n",
    "              'bbox': bbox,\n",
    "              'email': email,\n",
    "              'page_size': page_size,\n",
    "              'request_mode': request_mode\n",
    "             }\n",
    "\n",
    "status_code_request_list,status_message_request_list,request_list = request_urls_list(param_dict,coverages)"
   ]
  },
  {
   "cell_type": "code",
   "execution_count": 154,
   "id": "a3da50bf-df40-4641-bc99-466c0050f75d",
   "metadata": {},
   "outputs": [],
   "source": [
    "message = f'#ETAPA N°3: Se obtiene el listado de URLs ({len(request_list)}) a utilizar en el request --> request_urls_list() --> Estado:[{status_code_request_list}] --> Mensaje:[{status_message_request_list}] --> {round(time.time() - execution_time_start,4)} seg'\n",
    "write_log_message(log,message)"
   ]
  },
  {
   "cell_type": "markdown",
   "id": "f2173af1-e3b0-4b5c-8b3a-9fff8109ad0d",
   "metadata": {},
   "source": [
    "## ETAPA N°4: create_root_folder()"
   ]
  },
  {
   "cell_type": "code",
   "execution_count": 155,
   "id": "f1cefba1-8616-4954-8bf7-e93d78a8c73b",
   "metadata": {},
   "outputs": [],
   "source": [
    "status_code_root_folder,status_message_root_folder,_ = create_root_folder(folder_name_list)"
   ]
  },
  {
   "cell_type": "code",
   "execution_count": 156,
   "id": "b5110a7c-b0d4-49b3-8371-6f8c8d3aa86a",
   "metadata": {},
   "outputs": [],
   "source": [
    "message = f'#ETAPA N°4: Se crean los directorios {folder_name_list} necesarios para la ejecucion --> create_root_folder() --> Estado:[{status_code_root_folder}] --> Mensaje:[{status_message_root_folder}] --> {round(time.time() - execution_time_start,4)} seg'\n",
    "write_log_message(log,message)"
   ]
  },
  {
   "cell_type": "markdown",
   "id": "2dbdcb92-b9fe-4693-a2b1-402b69808a56",
   "metadata": {},
   "source": [
    "## ETAPA N°5: dict_folders()"
   ]
  },
  {
   "cell_type": "code",
   "execution_count": 157,
   "id": "892bfa16-d134-4e35-8457-835a2b7f0ec7",
   "metadata": {},
   "outputs": [],
   "source": [
    "status_code_dict_folders,status_message_dict_folders,dict_folder_list = dict_folders(folder_name_list)"
   ]
  },
  {
   "cell_type": "code",
   "execution_count": 158,
   "id": "689fb8bd-8125-49c3-a940-3d05807a3a07",
   "metadata": {},
   "outputs": [],
   "source": [
    "message = f'#ETAPA N°5: Se crea un diccionario con los directorios creados en ETAPA N°4 --> dict_folders() --> Estado:[{status_code_dict_folders}] --> Mensaje:[{status_message_dict_folders}] --> {round(time.time() - execution_time_start,4)} seg'\n",
    "write_log_message(log,message)"
   ]
  },
  {
   "cell_type": "markdown",
   "id": "084c4a98-5b02-48e6-b8f1-27e29e5ec612",
   "metadata": {},
   "source": [
    "## ETAPA N°6: create_folder()"
   ]
  },
  {
   "cell_type": "code",
   "execution_count": 159,
   "id": "ed2de1b8-ab0c-4e28-9a44-438f11495f00",
   "metadata": {},
   "outputs": [],
   "source": [
    "name_folder = f'{time_now}_{short_name}_{version}_{start_date}_{end_date}'\n",
    "origin_folder = dict_folder_list['path_OUTPUT']\n",
    "status_code_create_folder,status_message_create_folder,destination_folder = create_folder(origin_folder,name_folder)\n",
    "message = f'#ETAPA N°6: Se crea el directorio [{name_folder}] dentro del directorio [{origin_folder}] donde se almacena la salida del proceso --> create_folder() --> Estado:[{status_code_create_folder}] --> Mensaje:[{status_message_create_folder}] --> {round(time.time() - execution_time_start,4)} seg'\n",
    "write_log_message(log,message)"
   ]
  },
  {
   "cell_type": "markdown",
   "id": "5a4fee0c-9e4b-45a7-8dc4-e3dd12e89d87",
   "metadata": {},
   "source": [
    "## ETAPA N°7: request()"
   ]
  },
  {
   "cell_type": "code",
   "execution_count": 160,
   "id": "f383fb7c-ddff-4c7e-878e-e36beca74812",
   "metadata": {},
   "outputs": [],
   "source": [
    "destination_path = dict_folder_list['path_TMP']\n",
    "for indice_url,url in enumerate(request_list):\n",
    "    status_code_execute_request,status_message_execute_request,_ = execute_request(username,password,url,destination_path,num_retries,http_status_list)\n",
    "    message = f'#ETAPA N°7-{indice_url+1}: Se realiza el request a [{url}] y el resultado se guarda en [{destination_path}] --> execute_request() --> Estado:[{status_code_execute_request}] --> Mensaje:[{status_message_execute_request}] --> {round(time.time() - execution_time_start,4)} seg'\n",
    "    write_log_message(log,message)"
   ]
  },
  {
   "cell_type": "markdown",
   "id": "b778fae2-a6e5-49da-a1bd-492762c2128b",
   "metadata": {},
   "source": [
    "## ETAPA N°8: unzip()"
   ]
  },
  {
   "cell_type": "code",
   "execution_count": 161,
   "id": "5f3ea771-3a9d-47aa-9a9e-f735f0e14e31",
   "metadata": {},
   "outputs": [],
   "source": [
    "status_code_unzip,status_message_unzip,_ = unzip(dict_folder_list['path_TMP'])"
   ]
  },
  {
   "cell_type": "code",
   "execution_count": 162,
   "id": "cd2f721b-e799-4c0a-b22e-f5e023ff5995",
   "metadata": {},
   "outputs": [],
   "source": [
    "message = f'#ETAPA N°8: Se descomprimen las imagenes obtenidas en la ETAPA N°7 que se guardaron en [{destination_path}] --> unzip() --> Estado:[{status_code_unzip}] --> Mensaje:[{status_message_unzip}] --> {round(time.time() - execution_time_start,4)} seg'\n",
    "write_log_message(log,message)"
   ]
  },
  {
   "cell_type": "markdown",
   "id": "44847cb9-16ee-4580-900b-71f89c3564e9",
   "metadata": {},
   "source": [
    "## ETAPA N°9: move_images()"
   ]
  },
  {
   "cell_type": "code",
   "execution_count": 163,
   "id": "555e8ada-b8fd-45d7-a979-78641ef9bd16",
   "metadata": {},
   "outputs": [],
   "source": [
    "status_code_move_images,status_message_move_images,_ = move_images(dict_folder_list['path_TMP'],destination_folder)"
   ]
  },
  {
   "cell_type": "code",
   "execution_count": 164,
   "id": "96fa6e14-e6e6-4ca3-bd09-a44c83358b78",
   "metadata": {},
   "outputs": [],
   "source": [
    "message = f'#ETAPA N°9: Se mueven las imagenes desde [{origin_folder}] a [{destination_folder}] --> move_images() --> Estado:[{status_code_move_images}] --> Mensaje:[{status_message_move_images}] --> {round(time.time() - execution_time_start,4)} seg'\n",
    "write_log_message(log,message)"
   ]
  },
  {
   "cell_type": "markdown",
   "id": "805e1705-3db9-4e23-8b97-b6aafb707514",
   "metadata": {},
   "source": [
    "## ETAPA N°10: delete_folder()"
   ]
  },
  {
   "cell_type": "code",
   "execution_count": 165,
   "id": "84c1adc0-eb0b-4cd4-a196-1501bec6c014",
   "metadata": {},
   "outputs": [],
   "source": [
    "status_code_delete_folder,status_message_delete_folder,_ = delete_folder(dict_folder_list['path_TMP'])"
   ]
  },
  {
   "cell_type": "code",
   "execution_count": 166,
   "id": "b1d4e079-6075-4382-b08a-749bc501a9db",
   "metadata": {},
   "outputs": [],
   "source": [
    "message = f'#ETAPA N°10: Se elimina el directorio [{destination_path}] --> delete_folder() --> Estado:[{status_code_delete_folder}] --> Mensaje:[{status_message_delete_folder}] --> {round(time.time() - execution_time_start,4)} seg'\n",
    "write_log_message(log,message)"
   ]
  },
  {
   "cell_type": "markdown",
   "id": "d7ef7139-b7e4-4c67-8b30-2f57903cab3c",
   "metadata": {},
   "source": [
    "## ETAPA N°11: delete_folder()"
   ]
  },
  {
   "cell_type": "code",
   "execution_count": 167,
   "id": "58b15c82-f5e5-43e1-8bde-51d61e615e79",
   "metadata": {},
   "outputs": [],
   "source": [
    "status_code_check_execution,status_message_check_execution,_ = check_execution_result(destination_folder,start_date,end_date,coverages)"
   ]
  },
  {
   "cell_type": "code",
   "execution_count": 168,
   "id": "28b3f600-ee9a-4a05-bb90-f2021e43f48c",
   "metadata": {},
   "outputs": [],
   "source": [
    "message = f'#ETAPA N°11: Se chequea la cantidad de imagenes obtenidas con respecto a la cantidad teorica --> check_execution_result() --> Estado:[{status_code_check_execution}] --> Mensaje:[{status_message_check_execution}] --> {round(time.time() - execution_time_start,4)} seg'\n",
    "write_log_message(log,message)"
   ]
  },
  {
   "cell_type": "code",
   "execution_count": 169,
   "id": "9fe75fa8-607d-4de4-b117-53ba06220e24",
   "metadata": {},
   "outputs": [],
   "source": [
    "message = f'#SE DA POR FINALIZADO EL PROCESO! --> Las imagenes se encuentran en [{destination_folder}]'\n",
    "write_log_message(log,message)"
   ]
  },
  {
   "cell_type": "code",
   "execution_count": 170,
   "id": "68d688d3-f434-4138-a5d3-7fb766928af7",
   "metadata": {},
   "outputs": [],
   "source": [
    "log.close()"
   ]
  },
  {
   "cell_type": "code",
   "execution_count": null,
   "id": "9ff62356",
   "metadata": {},
   "outputs": [],
   "source": []
  },
  {
   "cell_type": "markdown",
   "id": "978817f8-14c6-4826-9bae-9e1d3b24abd5",
   "metadata": {},
   "source": [
    "## main()"
   ]
  },
  {
   "cell_type": "code",
   "execution_count": null,
   "id": "d1219229-7063-4272-b9c1-c506fb4b289a",
   "metadata": {},
   "outputs": [],
   "source": [
    "def download_images():\n",
    "    \n",
    "    #Request - Listado de parametros\n",
    "    param_dict = {'short_name': short_name, \n",
    "                  'version': version,\n",
    "                  'format': formato,\n",
    "                  'time': '',\n",
    "                  'Coverage': '',\n",
    "                  'projection': projection,\n",
    "                  'bbox': bbox,\n",
    "                  'email': '',\n",
    "                  'page_size': page_size,\n",
    "                  'request_mode': request_mode\n",
    "                 }\n",
    "    \n",
    "    #ETAPA N°0: Se crea el archivo donde se guardaran los logs de la ejecucion en curso\n",
    "    time_now = datetime.today().isoformat('T','seconds').replace(':','-')\n",
    "    name_file_log = f'log_{short_name}_{version}_{start_date}_{end_date}_Ejecucion_{time_now}.txt'\n",
    "    status_code_log_file,status_message_log_file,log = create_logs_file(name_file_log)\n",
    "    \n",
    "    if status_code_log_file == 'OK':\n",
    "        #ETAPA N°1: Se cargan los secretos para realizar la conexion al microservicio (API) de EARTHDATA --> load_secrets()\n",
    "        username,password,email = load_secrets()\n",
    "        \n",
    "        if (username is not None) and (password is not None) and (email is not None):\n",
    "            #Se incorpora 'email' al diccionario de parametros\n",
    "            param_dict['email'] = email\n",
    "            #ETAPA N°2: Se construye la ventana temporal a utilizar en el request --> temporal_range()\n",
    "            status_code_time,status_message_time,time_range = temporal_range(start_date,start_time,end_date,end_time)\n",
    "            #Se incorpora 'time' al diccionario de parametros\n",
    "            param_dict['time'] = time_range\n",
    "            \n",
    "            if status_code_time == 'OK':\n",
    "                #ETAPA N°3: Se obtiene el listado de URL's a utilizar en el request --> request_urls_list()\n",
    "                status_code_request_list,status_message_request_list,request_list = request_urls_list(param_dict,coverages)\n",
    "                \n",
    "                if status_code_request == 'OK':\n",
    "                    #ETAPA N°4: Se crean los directorios necesarios para la ejecucion --> create_folder()\n",
    "                    status_code_create_folder,status_message_create_folder = create_folder(folder_name_list)\n",
    "                    \n",
    "                    if status_code_create_folder == 'OK':\n",
    "                        #ETAPA N°5: Se incorpora en un diccionario los directorios creados en ETAPA N°4 --> dict_folders()\n",
    "                        status_code_dict_folders,status_message_dict_folders,dict_folder_list = dict_folders(folder_name_list)\n",
    "                        \n",
    "                        if status_code_dict_folders == 'OK':\n",
    "\n",
    "\n",
    "\n",
    "                        else:\n",
    "                            return status_code_dict_folders,status_message_dict_folders,dict_folder_list\n",
    "                        \n",
    "                    else:\n",
    "                        return status_code_create_folder,status_message_create_folder,None\n",
    "                    \n",
    "                else:\n",
    "                    return status_code_request_list,status_message_request_list,request_list\n",
    "                \n",
    "            else:\n",
    "                return status_code_time,status_message_time,time_range\n",
    "            \n",
    "        else:\n",
    "            status_code_load_secrets = 'NOK'\n",
    "            status_message_load_secrets = 'load_secrets() --> Error: No fue posible leer los secretos para acceder al microservicio (API) de EARTHDATA'\n",
    "            return status_code_load_secrets,status_message_load_secrets,None\n",
    "        \n",
    "    else:\n",
    "        return status_code_log_file,status_message_log_file,_"
   ]
  },
  {
   "cell_type": "code",
   "execution_count": null,
   "id": "539aec86-2faa-400c-977f-30b64a1a9c0d",
   "metadata": {},
   "outputs": [],
   "source": []
  }
 ],
 "metadata": {
  "kernelspec": {
   "display_name": "Python 3 (ipykernel)",
   "language": "python",
   "name": "python3"
  },
  "language_info": {
   "codemirror_mode": {
    "name": "ipython",
    "version": 3
   },
   "file_extension": ".py",
   "mimetype": "text/x-python",
   "name": "python",
   "nbconvert_exporter": "python",
   "pygments_lexer": "ipython3",
   "version": "3.11.5"
  }
 },
 "nbformat": 4,
 "nbformat_minor": 5
}
