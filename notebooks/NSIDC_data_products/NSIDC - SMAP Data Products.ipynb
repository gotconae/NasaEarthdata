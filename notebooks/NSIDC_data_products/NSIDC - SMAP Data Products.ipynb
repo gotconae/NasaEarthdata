{
 "cells": [
  {
   "cell_type": "markdown",
   "id": "4f550238-080b-4c5a-82af-3e300e55c0f6",
   "metadata": {},
   "source": [
    "# NSIDC - SMAP Data Products\n",
    "\n",
    "Esta Notebook tiene como finalidad orientas sobre como obtener el conjunto de valores posibles correspondiente a las variables a completar en el script **parameters.py** por parte del usuario al momento de utilizar la funcionalidad para descarga de imagenes correspondientes a la mision **Soil Moisture Active Passive Data (SMAP)**\n",
    "\n",
    "El uso para la obtencion de caracteristicas correspondiente a otras misiones tiene caracteristicas similares considerando los ajuntes necesarios segun la configuracion requerida para el acceso a los productos para los cuales EARTHDATA disponibiliza informacion."
   ]
  },
  {
   "cell_type": "markdown",
   "id": "a7818bfa",
   "metadata": {},
   "source": [
    "### 1. Abreviaturas:\n",
    "\n",
    "* NSIDC: National Snow and Ice Data Center\n",
    "* DAAC: Distributed Active Archive Center\n",
    "* EOS: Earth Observing System\n",
    "* CRM: Common Metadata Repository\n",
    "* API: Application programming interface\n",
    "* SMAP: Soil Moisture Active Passive Data"
   ]
  },
  {
   "cell_type": "markdown",
   "id": "3fe67d94",
   "metadata": {},
   "source": [
    "### 2. Documentacion de Referencia\n",
    "\n",
    "* NSIDC DAAC's data access and service API https://nsidc.org/data/user-resources/help-center/programmatic-data-access-guide#anchor-3\n",
    "\n",
    "* NSIDC-Data-Access-Notebook https://github.com/nsidc/NSIDC-Data-Access-Notebook\n",
    "\n",
    "* Table of Key-Value-Pair (KVP) Operands for Subsetting, Reformatting, and Reprojection Services https://nsidc.org/data/user-resources/help-center/table-key-value-pair-kvp-operands-subsetting-reformatting-and-reprojection-services\n",
    "\n",
    "* Earthdata CRM Search - API Documentation https://cmr.earthdata.nasa.gov/search/site/docs/search/api.html#_ga=2.224475802.1037008902.1697547140-1448504569.1697547140"
   ]
  },
  {
   "cell_type": "markdown",
   "id": "6fb49d87-11c1-45db-b288-e341fb068250",
   "metadata": {},
   "source": [
    "### 3. Credenciales\n",
    "\n",
    "Para acceder a los datos del NSIDC se requiere una cuenta de inicio de sesión de Earthdata. En caso de no disponer de una cuenta disponible visite http://urs.earthdata.nasa.gov para registrarse.\n",
    "\n",
    "Luego de registrado en Earthdata es necesario completar los datos de registro en las variables API_USER (usuario) / API_SECRET (contraseña) / EMAIL (email) en las siguientes variables:\n",
    "\n",
    "    - API_USER = ''\n",
    "    - API_SECRET = ''\n",
    "    - API_EMAIL = ''\n",
    "\n",
    "En caso de trabajar con repositorios y versionadores de codigo queda a responsabilidad del usuario el manejo de los secretos para evitar su publicacion."
   ]
  },
  {
   "cell_type": "code",
   "execution_count": 24,
   "id": "2929c10c",
   "metadata": {},
   "outputs": [],
   "source": [
    "API_USER=''\n",
    "API_SECRET=''\n",
    "API_EMAIL=''"
   ]
  },
  {
   "cell_type": "markdown",
   "id": "2179a39d",
   "metadata": {},
   "source": [
    "### 4. SMAP - Pares Clave-Valor (Key-Value-Pair) para subconjunto, reformateo y reproyección.\n",
    "\n",
    "Se considera como documentacion de referencia https://nsidc.org/data/user-resources/help-center/table-key-value-pair-kvp-operands-subsetting-reformatting-and-reprojection-services "
   ]
  },
  {
   "cell_type": "code",
   "execution_count": 25,
   "id": "e7d4463b",
   "metadata": {},
   "outputs": [],
   "source": [
    "import requests\n",
    "import json"
   ]
  },
  {
   "cell_type": "markdown",
   "id": "a8c57070",
   "metadata": {},
   "source": [
    "### 4.1 Variable 'short_name'\n",
    "\n",
    "Los posibles valores depende de la mision que se este considerando. Para las misiones que se encuentran disponibles para consulta via API se puede observan los valores por mision en https://nsidc.org/data/user-resources/help-center/table-key-value-pair-kvp-operands-subsetting-reformatting-and-reprojection-services\n",
    "\n",
    "En particular para SMAP se observan en https://nsidc.org/data/user-resources/help-center/what-data-subsetting-reformatting-and-reprojection-services-are-available-smap-data. A continuacion se toma como ejemplo el valor **SPL3SMP_E**\n"
   ]
  },
  {
   "cell_type": "code",
   "execution_count": 26,
   "id": "9b8f30b8",
   "metadata": {},
   "outputs": [],
   "source": [
    "short_name = 'SPL3SMP_E'"
   ]
  },
  {
   "cell_type": "markdown",
   "id": "16cf619c",
   "metadata": {},
   "source": [
    "Teniendo identificado el valor de 'short_name' es posible obtener en formato JSON la metadata correspondiente a Common Metadata Repository (CMR)"
   ]
  },
  {
   "cell_type": "code",
   "execution_count": 27,
   "id": "85da514e",
   "metadata": {},
   "outputs": [
    {
     "data": {
      "text/plain": [
       "{'feed': {'updated': '2023-10-17T18:55:40.880Z',\n",
       "  'id': 'https://cmr.earthdata.nasa.gov:443/search/collections.json?short_name=SPL3SMP_E',\n",
       "  'title': 'ECHO dataset metadata',\n",
       "  'entry': [{'processing_level_id': 'Level 3',\n",
       "    'cloud_hosted': False,\n",
       "    'boxes': ['-85.044 -180 90 180'],\n",
       "    'time_start': '2015-03-31T00:00:00.000Z',\n",
       "    'version_id': '005',\n",
       "    'dataset_id': 'SMAP Enhanced L3 Radiometer Global and Polar Grid Daily 9 km EASE-Grid Soil Moisture V005',\n",
       "    'has_spatial_subsetting': True,\n",
       "    'has_transforms': True,\n",
       "    'associations': {'services': ['S1568899363-NSIDC_ECS',\n",
       "      'S2011758375-NSIDC_ECS',\n",
       "      'S1956579962-NSIDC_ECS',\n",
       "      'S1977894169-NSIDC_ECS'],\n",
       "     'tools': ['TL2013523138-NSIDC_ECS',\n",
       "      'TL2011654705-NSIDC_ECS',\n",
       "      'TL1977971361-NSIDC_ECS',\n",
       "      'TL1952642907-NSIDC_ECS',\n",
       "      'TL2000645101-NSIDC_ECS',\n",
       "      'TL1979078682-NSIDC_ECS',\n",
       "      'TL1995500651-NSIDC_ECS',\n",
       "      'TL1956550964-NSIDC_ECS',\n",
       "      'TL2012682515-NSIDC_ECS']},\n",
       "    'has_variables': True,\n",
       "    'data_center': 'NSIDC_ECS',\n",
       "    'short_name': 'SPL3SMP_E',\n",
       "    'organizations': ['NASA NSIDC DAAC', 'NASA/JPL/SMAP'],\n",
       "    'title': 'SMAP Enhanced L3 Radiometer Global and Polar Grid Daily 9 km EASE-Grid Soil Moisture V005',\n",
       "    'coordinate_system': 'CARTESIAN',\n",
       "    'summary': 'This enhanced Level-3 (L3) soil moisture product provides a composite of daily estimates of global land surface conditions retrieved by the Soil Moisture Active Passive (SMAP) radiometer. This product is a daily composite of SMAP Level-2 (L2) soil moisture which is derived from SMAP Level-1C (L1C) interpolated brightness temperatures. Backus-Gilbert optimal interpolation techniques are used to extract information from SMAP antenna temperatures and convert them to brightness temperatures, which are posted to the 9 km Equal-Area Scalable Earth Grid, Version 2.0 (EASE-Grid 2.0) in a global cylindrical projection. As of 2021, the data are also posted to the Northern Hemisphere EASE-Grid 2.0, an azimuthal equal-area projection.',\n",
       "    'service_features': {'esi': {'has_formats': True,\n",
       "      'has_variables': True,\n",
       "      'has_transforms': True,\n",
       "      'has_spatial_subsetting': True,\n",
       "      'has_temporal_subsetting': False},\n",
       "     'opendap': {'has_formats': False,\n",
       "      'has_variables': False,\n",
       "      'has_transforms': False,\n",
       "      'has_spatial_subsetting': False,\n",
       "      'has_temporal_subsetting': False},\n",
       "     'harmony': {'has_formats': False,\n",
       "      'has_variables': False,\n",
       "      'has_transforms': False,\n",
       "      'has_spatial_subsetting': False,\n",
       "      'has_temporal_subsetting': False}},\n",
       "    'orbit_parameters': {},\n",
       "    'id': 'C2136471727-NSIDC_ECS',\n",
       "    'has_formats': True,\n",
       "    'consortiums': ['GEOSS', 'EOSDIS'],\n",
       "    'original_format': 'ISO19115',\n",
       "    'archive_center': 'NASA NSIDC DAAC',\n",
       "    'has_temporal_subsetting': False,\n",
       "    'browse_flag': True,\n",
       "    'platforms': ['SMAP'],\n",
       "    'association_details': {'services': [{'data': {'order_option': 'OO2700492408-NSIDC_ECS'},\n",
       "       'concept_id': 'S1568899363-NSIDC_ECS'},\n",
       "      {'data': {'order_option': 'OO2700528730-NSIDC_ECS'},\n",
       "       'concept_id': 'S2011758375-NSIDC_ECS'},\n",
       "      {'concept_id': 'S1956579962-NSIDC_ECS'},\n",
       "      {'concept_id': 'S1977894169-NSIDC_ECS'}],\n",
       "     'tools': [{'concept_id': 'TL2013523138-NSIDC_ECS'},\n",
       "      {'concept_id': 'TL2011654705-NSIDC_ECS'},\n",
       "      {'concept_id': 'TL1977971361-NSIDC_ECS'},\n",
       "      {'concept_id': 'TL1952642907-NSIDC_ECS'},\n",
       "      {'concept_id': 'TL2000645101-NSIDC_ECS'},\n",
       "      {'concept_id': 'TL1979078682-NSIDC_ECS'},\n",
       "      {'concept_id': 'TL1995500651-NSIDC_ECS'},\n",
       "      {'concept_id': 'TL1956550964-NSIDC_ECS'},\n",
       "      {'concept_id': 'TL2012682515-NSIDC_ECS'}]},\n",
       "    'online_access_flag': True,\n",
       "    'links': [{'length': '0.0KB',\n",
       "      'rel': 'http://esipfed.org/ns/fedsearch/1.1/data#',\n",
       "      'hreflang': 'en-US',\n",
       "      'href': 'http://nsidc.org/daac/subscriptions.html'},\n",
       "     {'length': '0.0KB',\n",
       "      'rel': 'http://esipfed.org/ns/fedsearch/1.1/data#',\n",
       "      'hreflang': 'en-US',\n",
       "      'href': 'https://n5eil01u.ecs.nsidc.org/SMAP/SPL3SMP_E.005/'},\n",
       "     {'length': '0.0KB',\n",
       "      'rel': 'http://esipfed.org/ns/fedsearch/1.1/data#',\n",
       "      'hreflang': 'en-US',\n",
       "      'href': 'https://search.earthdata.nasa.gov/search?q=SPL3SMP_E+V005'},\n",
       "     {'length': '0.0KB',\n",
       "      'rel': 'http://esipfed.org/ns/fedsearch/1.1/data#',\n",
       "      'hreflang': 'en-US',\n",
       "      'href': 'https://nsidc.org/data/data-access-tool/SPL3SMP_E/versions/5/'},\n",
       "     {'rel': 'http://esipfed.org/ns/fedsearch/1.1/browse#',\n",
       "      'hreflang': 'en-US',\n",
       "      'href': 'https://worldview.earthdata.nasa.gov/?v=-250.2620130097105,-108.8736928345171,179.80414339464457,101.73985363990485&l=SMAP_L3_Passive_Enhanced_Day_Soil_Moisture,MODIS_Terra_CorrectedReflectance_TrueColor&lg=false&t=2015-07-03-T16%3A00%3A00Z'},\n",
       "     {'rel': 'http://esipfed.org/ns/fedsearch/1.1/metadata#',\n",
       "      'hreflang': 'en-US',\n",
       "      'href': 'https://doi.org/10.5067/4DQ54OUIJ9DL'},\n",
       "     {'rel': 'http://esipfed.org/ns/fedsearch/1.1/documentation#',\n",
       "      'hreflang': 'en-US',\n",
       "      'href': 'https://doi.org/10.5067/4DQ54OUIJ9DL'}]}]}}"
      ]
     },
     "execution_count": 27,
     "metadata": {},
     "output_type": "execute_result"
    }
   ],
   "source": [
    "params = {'short_name': short_name}\n",
    "cmr_collections_url = 'https://cmr.earthdata.nasa.gov/search/collections.json'\n",
    "response = requests.get(cmr_collections_url, params=params)\n",
    "results = json.loads(response.content)\n",
    "results"
   ]
  },
  {
   "cell_type": "markdown",
   "id": "12a719ae-d128-4529-92e0-4db0981fd85e",
   "metadata": {},
   "source": [
    "### 4.2 Variable 'version'"
   ]
  },
  {
   "cell_type": "code",
   "execution_count": 28,
   "id": "959c0812-7e19-468f-abcb-254284b4a867",
   "metadata": {},
   "outputs": [
    {
     "data": {
      "text/plain": [
       "['005']"
      ]
     },
     "execution_count": 28,
     "metadata": {},
     "output_type": "execute_result"
    }
   ],
   "source": [
    "#Se listan todos los valores de 'version_id'\n",
    "\n",
    "versions = [el['version_id'] for el in results['feed']['entry']]\n",
    "versions"
   ]
  },
  {
   "cell_type": "code",
   "execution_count": 29,
   "id": "72941161",
   "metadata": {},
   "outputs": [
    {
     "data": {
      "text/plain": [
       "'005'"
      ]
     },
     "execution_count": 29,
     "metadata": {},
     "output_type": "execute_result"
    }
   ],
   "source": [
    "#Se muestra la utlima version disponible\n",
    "\n",
    "latest_version = max(versions)\n",
    "latest_version"
   ]
  },
  {
   "cell_type": "markdown",
   "id": "ad16e092-5f52-4b7d-967a-59d202cacfd6",
   "metadata": {},
   "source": [
    "### 4.3 Variables 'formato', 'coverages' y 'projection'"
   ]
  },
  {
   "cell_type": "code",
   "execution_count": 31,
   "id": "d75b4a38-6a45-4306-aec8-b51da43d88c4",
   "metadata": {},
   "outputs": [],
   "source": [
    "# Query service capability URL \n",
    "\n",
    "from xml.etree import ElementTree as ET\n",
    "\n",
    "capability_url = f'https://n5eil02u.ecs.nsidc.org/egi/capabilities/{short_name}.{latest_version}.xml'\n",
    "session = requests.session()\n",
    "s = session.get(capability_url)\n",
    "response = session.get(s.url,auth=(API_USER,API_SECRET))\n",
    "root = ET.fromstring(response.content)\n",
    "\n",
    "subagent = [subset_agent.attrib for subset_agent in root.iter('SubsetAgent')]\n",
    "if len(subagent) > 0 :\n",
    "\n",
    "    #Coverages\n",
    "    coverages = [SubsetVariable.attrib for SubsetVariable in root.iter('SubsetVariable')]  \n",
    "    coverages_raw = [coverages[i]['value'] for i in range(len(coverages))]\n",
    "    coverages_join = [''.join(('/',v)) if v.startswith('/') == False else v for v in coverages_raw] \n",
    "    coverages_values = [v.replace(':', '/') for v in coverages_join]\n",
    "\n",
    "    #Formatos\n",
    "    formats = [Format.attrib for Format in root.iter('Format')]\n",
    "    format_values = [formats[i]['value'] for i in range(len(formats))]\n",
    "    format_values.remove('')\n",
    "\n",
    "    #Proyecciones\n",
    "    projections = [Projection.attrib for Projection in root.iter('Projection')]"
   ]
  },
  {
   "cell_type": "code",
   "execution_count": 32,
   "id": "2a03efa8",
   "metadata": {},
   "outputs": [
    {
     "data": {
      "text/plain": [
       "['HDF-EOS5', 'NetCDF4-CF', 'ASCII', 'KML', 'GeoTIFF']"
      ]
     },
     "execution_count": 32,
     "metadata": {},
     "output_type": "execute_result"
    }
   ],
   "source": [
    "#Formatos disponibles --> Variable 'formato'\n",
    "\n",
    "format_values"
   ]
  },
  {
   "cell_type": "code",
   "execution_count": 33,
   "id": "9df6f143-eb5e-429d-89a6-988332df8f8b",
   "metadata": {},
   "outputs": [
    {
     "data": {
      "text/plain": [
       "['/Soil_Moisture_Retrieval_Data_AM',\n",
       " '/Soil_Moisture_Retrieval_Data_AM/albedo',\n",
       " '/Soil_Moisture_Retrieval_Data_AM/albedo_dca',\n",
       " '/Soil_Moisture_Retrieval_Data_AM/albedo_scah',\n",
       " '/Soil_Moisture_Retrieval_Data_AM/albedo_scav',\n",
       " '/Soil_Moisture_Retrieval_Data_AM/boresight_incidence',\n",
       " '/Soil_Moisture_Retrieval_Data_AM/bulk_density',\n",
       " '/Soil_Moisture_Retrieval_Data_AM/clay_fraction',\n",
       " '/Soil_Moisture_Retrieval_Data_AM/EASE_column_index',\n",
       " '/Soil_Moisture_Retrieval_Data_AM/EASE_row_index',\n",
       " '/Soil_Moisture_Retrieval_Data_AM/freeze_thaw_fraction',\n",
       " '/Soil_Moisture_Retrieval_Data_AM/grid_surface_status',\n",
       " '/Soil_Moisture_Retrieval_Data_AM/latitude',\n",
       " '/Soil_Moisture_Retrieval_Data_AM/latitude_centroid',\n",
       " '/Soil_Moisture_Retrieval_Data_AM/longitude',\n",
       " '/Soil_Moisture_Retrieval_Data_AM/longitude_centroid',\n",
       " '/Soil_Moisture_Retrieval_Data_AM/radar_water_body_fraction',\n",
       " '/Soil_Moisture_Retrieval_Data_AM/retrieval_qual_flag',\n",
       " '/Soil_Moisture_Retrieval_Data_AM/retrieval_qual_flag_dca',\n",
       " '/Soil_Moisture_Retrieval_Data_AM/retrieval_qual_flag_scah',\n",
       " '/Soil_Moisture_Retrieval_Data_AM/retrieval_qual_flag_scav',\n",
       " '/Soil_Moisture_Retrieval_Data_AM/roughness_coefficient',\n",
       " '/Soil_Moisture_Retrieval_Data_AM/roughness_coefficient_dca',\n",
       " '/Soil_Moisture_Retrieval_Data_AM/roughness_coefficient_scah',\n",
       " '/Soil_Moisture_Retrieval_Data_AM/roughness_coefficient_scav',\n",
       " '/Soil_Moisture_Retrieval_Data_AM/soil_moisture',\n",
       " '/Soil_Moisture_Retrieval_Data_AM/soil_moisture_dca',\n",
       " '/Soil_Moisture_Retrieval_Data_AM/soil_moisture_error',\n",
       " '/Soil_Moisture_Retrieval_Data_AM/soil_moisture_scah',\n",
       " '/Soil_Moisture_Retrieval_Data_AM/soil_moisture_scav',\n",
       " '/Soil_Moisture_Retrieval_Data_AM/static_water_body_fraction',\n",
       " '/Soil_Moisture_Retrieval_Data_AM/surface_flag',\n",
       " '/Soil_Moisture_Retrieval_Data_AM/surface_temperature',\n",
       " '/Soil_Moisture_Retrieval_Data_AM/surface_water_fraction_mb_h',\n",
       " '/Soil_Moisture_Retrieval_Data_AM/surface_water_fraction_mb_v',\n",
       " '/Soil_Moisture_Retrieval_Data_AM/tb_3_corrected',\n",
       " '/Soil_Moisture_Retrieval_Data_AM/tb_4_corrected',\n",
       " '/Soil_Moisture_Retrieval_Data_AM/tb_h_corrected',\n",
       " '/Soil_Moisture_Retrieval_Data_AM/tb_h_uncorrected',\n",
       " '/Soil_Moisture_Retrieval_Data_AM/tb_qual_flag_3',\n",
       " '/Soil_Moisture_Retrieval_Data_AM/tb_qual_flag_4',\n",
       " '/Soil_Moisture_Retrieval_Data_AM/tb_qual_flag_h',\n",
       " '/Soil_Moisture_Retrieval_Data_AM/tb_qual_flag_v',\n",
       " '/Soil_Moisture_Retrieval_Data_AM/tb_time_seconds',\n",
       " '/Soil_Moisture_Retrieval_Data_AM/tb_time_utc',\n",
       " '/Soil_Moisture_Retrieval_Data_AM/tb_v_corrected',\n",
       " '/Soil_Moisture_Retrieval_Data_AM/tb_v_uncorrected',\n",
       " '/Soil_Moisture_Retrieval_Data_AM/vegetation_opacity',\n",
       " '/Soil_Moisture_Retrieval_Data_AM/vegetation_opacity_dca',\n",
       " '/Soil_Moisture_Retrieval_Data_AM/vegetation_opacity_scah',\n",
       " '/Soil_Moisture_Retrieval_Data_AM/vegetation_opacity_scav',\n",
       " '/Soil_Moisture_Retrieval_Data_AM/vegetation_water_content',\n",
       " '/Soil_Moisture_Retrieval_Data_PM',\n",
       " '/Soil_Moisture_Retrieval_Data_PM/albedo_dca_pm',\n",
       " '/Soil_Moisture_Retrieval_Data_PM/albedo_pm',\n",
       " '/Soil_Moisture_Retrieval_Data_PM/albedo_scah_pm',\n",
       " '/Soil_Moisture_Retrieval_Data_PM/albedo_scav_pm',\n",
       " '/Soil_Moisture_Retrieval_Data_PM/boresight_incidence_pm',\n",
       " '/Soil_Moisture_Retrieval_Data_PM/bulk_density_pm',\n",
       " '/Soil_Moisture_Retrieval_Data_PM/clay_fraction_pm',\n",
       " '/Soil_Moisture_Retrieval_Data_PM/EASE_column_index_pm',\n",
       " '/Soil_Moisture_Retrieval_Data_PM/EASE_row_index_pm',\n",
       " '/Soil_Moisture_Retrieval_Data_PM/freeze_thaw_fraction_pm',\n",
       " '/Soil_Moisture_Retrieval_Data_PM/grid_surface_status_pm',\n",
       " '/Soil_Moisture_Retrieval_Data_PM/latitude_centroid_pm',\n",
       " '/Soil_Moisture_Retrieval_Data_PM/latitude_pm',\n",
       " '/Soil_Moisture_Retrieval_Data_PM/longitude_centroid_pm',\n",
       " '/Soil_Moisture_Retrieval_Data_PM/longitude_pm',\n",
       " '/Soil_Moisture_Retrieval_Data_PM/radar_water_body_fraction_pm',\n",
       " '/Soil_Moisture_Retrieval_Data_PM/retrieval_qual_flag_dca_pm',\n",
       " '/Soil_Moisture_Retrieval_Data_PM/retrieval_qual_flag_pm',\n",
       " '/Soil_Moisture_Retrieval_Data_PM/retrieval_qual_flag_scah_pm',\n",
       " '/Soil_Moisture_Retrieval_Data_PM/retrieval_qual_flag_scav_pm',\n",
       " '/Soil_Moisture_Retrieval_Data_PM/roughness_coefficient_dca_pm',\n",
       " '/Soil_Moisture_Retrieval_Data_PM/roughness_coefficient_pm',\n",
       " '/Soil_Moisture_Retrieval_Data_PM/roughness_coefficient_scah_pm',\n",
       " '/Soil_Moisture_Retrieval_Data_PM/roughness_coefficient_scav_pm',\n",
       " '/Soil_Moisture_Retrieval_Data_PM/soil_moisture_dca_pm',\n",
       " '/Soil_Moisture_Retrieval_Data_PM/soil_moisture_error_pm',\n",
       " '/Soil_Moisture_Retrieval_Data_PM/soil_moisture_pm',\n",
       " '/Soil_Moisture_Retrieval_Data_PM/soil_moisture_scah_pm',\n",
       " '/Soil_Moisture_Retrieval_Data_PM/soil_moisture_scav_pm',\n",
       " '/Soil_Moisture_Retrieval_Data_PM/static_water_body_fraction_pm',\n",
       " '/Soil_Moisture_Retrieval_Data_PM/surface_flag_pm',\n",
       " '/Soil_Moisture_Retrieval_Data_PM/surface_temperature_pm',\n",
       " '/Soil_Moisture_Retrieval_Data_PM/surface_water_fraction_mb_h_pm',\n",
       " '/Soil_Moisture_Retrieval_Data_PM/surface_water_fraction_mb_v_pm',\n",
       " '/Soil_Moisture_Retrieval_Data_PM/tb_3_corrected_pm',\n",
       " '/Soil_Moisture_Retrieval_Data_PM/tb_4_corrected_pm',\n",
       " '/Soil_Moisture_Retrieval_Data_PM/tb_h_corrected_pm',\n",
       " '/Soil_Moisture_Retrieval_Data_PM/tb_h_uncorrected_pm',\n",
       " '/Soil_Moisture_Retrieval_Data_PM/tb_qual_flag_3_pm',\n",
       " '/Soil_Moisture_Retrieval_Data_PM/tb_qual_flag_4_pm',\n",
       " '/Soil_Moisture_Retrieval_Data_PM/tb_qual_flag_h_pm',\n",
       " '/Soil_Moisture_Retrieval_Data_PM/tb_qual_flag_v_pm',\n",
       " '/Soil_Moisture_Retrieval_Data_PM/tb_time_seconds_pm',\n",
       " '/Soil_Moisture_Retrieval_Data_PM/tb_time_utc_pm',\n",
       " '/Soil_Moisture_Retrieval_Data_PM/tb_v_corrected_pm',\n",
       " '/Soil_Moisture_Retrieval_Data_PM/tb_v_uncorrected_pm',\n",
       " '/Soil_Moisture_Retrieval_Data_PM/vegetation_opacity_dca_pm',\n",
       " '/Soil_Moisture_Retrieval_Data_PM/vegetation_opacity_pm',\n",
       " '/Soil_Moisture_Retrieval_Data_PM/vegetation_opacity_scah_pm',\n",
       " '/Soil_Moisture_Retrieval_Data_PM/vegetation_opacity_scav_pm',\n",
       " '/Soil_Moisture_Retrieval_Data_PM/vegetation_water_content_pm',\n",
       " '/Soil_Moisture_Retrieval_Data_Polar_AM',\n",
       " '/Soil_Moisture_Retrieval_Data_Polar_AM/albedo',\n",
       " '/Soil_Moisture_Retrieval_Data_Polar_AM/albedo_dca',\n",
       " '/Soil_Moisture_Retrieval_Data_Polar_AM/albedo_scah',\n",
       " '/Soil_Moisture_Retrieval_Data_Polar_AM/albedo_scav',\n",
       " '/Soil_Moisture_Retrieval_Data_Polar_AM/boresight_incidence',\n",
       " '/Soil_Moisture_Retrieval_Data_Polar_AM/bulk_density',\n",
       " '/Soil_Moisture_Retrieval_Data_Polar_AM/clay_fraction',\n",
       " '/Soil_Moisture_Retrieval_Data_Polar_AM/EASE_column_index',\n",
       " '/Soil_Moisture_Retrieval_Data_Polar_AM/EASE_row_index',\n",
       " '/Soil_Moisture_Retrieval_Data_Polar_AM/freeze_thaw_fraction',\n",
       " '/Soil_Moisture_Retrieval_Data_Polar_AM/grid_surface_status',\n",
       " '/Soil_Moisture_Retrieval_Data_Polar_AM/latitude',\n",
       " '/Soil_Moisture_Retrieval_Data_Polar_AM/latitude_centroid',\n",
       " '/Soil_Moisture_Retrieval_Data_Polar_AM/longitude',\n",
       " '/Soil_Moisture_Retrieval_Data_Polar_AM/longitude_centroid',\n",
       " '/Soil_Moisture_Retrieval_Data_Polar_AM/radar_water_body_fraction',\n",
       " '/Soil_Moisture_Retrieval_Data_Polar_AM/retrieval_qual_flag',\n",
       " '/Soil_Moisture_Retrieval_Data_Polar_AM/retrieval_qual_flag_dca',\n",
       " '/Soil_Moisture_Retrieval_Data_Polar_AM/retrieval_qual_flag_scah',\n",
       " '/Soil_Moisture_Retrieval_Data_Polar_AM/retrieval_qual_flag_scav',\n",
       " '/Soil_Moisture_Retrieval_Data_Polar_AM/roughness_coefficient',\n",
       " '/Soil_Moisture_Retrieval_Data_Polar_AM/roughness_coefficient_dca',\n",
       " '/Soil_Moisture_Retrieval_Data_Polar_AM/roughness_coefficient_scah',\n",
       " '/Soil_Moisture_Retrieval_Data_Polar_AM/roughness_coefficient_scav',\n",
       " '/Soil_Moisture_Retrieval_Data_Polar_AM/soil_moisture',\n",
       " '/Soil_Moisture_Retrieval_Data_Polar_AM/soil_moisture_dca',\n",
       " '/Soil_Moisture_Retrieval_Data_Polar_AM/soil_moisture_error',\n",
       " '/Soil_Moisture_Retrieval_Data_Polar_AM/soil_moisture_scah',\n",
       " '/Soil_Moisture_Retrieval_Data_Polar_AM/soil_moisture_scav',\n",
       " '/Soil_Moisture_Retrieval_Data_Polar_AM/static_water_body_fraction',\n",
       " '/Soil_Moisture_Retrieval_Data_Polar_AM/surface_flag',\n",
       " '/Soil_Moisture_Retrieval_Data_Polar_AM/surface_temperature',\n",
       " '/Soil_Moisture_Retrieval_Data_Polar_AM/surface_water_fraction_mb_h',\n",
       " '/Soil_Moisture_Retrieval_Data_Polar_AM/surface_water_fraction_mb_v',\n",
       " '/Soil_Moisture_Retrieval_Data_Polar_AM/tb_3_corrected',\n",
       " '/Soil_Moisture_Retrieval_Data_Polar_AM/tb_4_corrected',\n",
       " '/Soil_Moisture_Retrieval_Data_Polar_AM/tb_h_corrected',\n",
       " '/Soil_Moisture_Retrieval_Data_Polar_AM/tb_h_uncorrected',\n",
       " '/Soil_Moisture_Retrieval_Data_Polar_AM/tb_qual_flag_3',\n",
       " '/Soil_Moisture_Retrieval_Data_Polar_AM/tb_qual_flag_4',\n",
       " '/Soil_Moisture_Retrieval_Data_Polar_AM/tb_qual_flag_h',\n",
       " '/Soil_Moisture_Retrieval_Data_Polar_AM/tb_qual_flag_v',\n",
       " '/Soil_Moisture_Retrieval_Data_Polar_AM/tb_time_seconds',\n",
       " '/Soil_Moisture_Retrieval_Data_Polar_AM/tb_time_utc',\n",
       " '/Soil_Moisture_Retrieval_Data_Polar_AM/tb_v_corrected',\n",
       " '/Soil_Moisture_Retrieval_Data_Polar_AM/tb_v_uncorrected',\n",
       " '/Soil_Moisture_Retrieval_Data_Polar_AM/vegetation_opacity',\n",
       " '/Soil_Moisture_Retrieval_Data_Polar_AM/vegetation_opacity_dca',\n",
       " '/Soil_Moisture_Retrieval_Data_Polar_AM/vegetation_opacity_scah',\n",
       " '/Soil_Moisture_Retrieval_Data_Polar_AM/vegetation_opacity_scav',\n",
       " '/Soil_Moisture_Retrieval_Data_Polar_AM/vegetation_water_content',\n",
       " '/Soil_Moisture_Retrieval_Data_Polar_PM',\n",
       " '/Soil_Moisture_Retrieval_Data_Polar_PM/albedo_dca_pm',\n",
       " '/Soil_Moisture_Retrieval_Data_Polar_PM/albedo_pm',\n",
       " '/Soil_Moisture_Retrieval_Data_Polar_PM/albedo_scah_pm',\n",
       " '/Soil_Moisture_Retrieval_Data_Polar_PM/albedo_scav_pm',\n",
       " '/Soil_Moisture_Retrieval_Data_Polar_PM/boresight_incidence_pm',\n",
       " '/Soil_Moisture_Retrieval_Data_Polar_PM/bulk_density_pm',\n",
       " '/Soil_Moisture_Retrieval_Data_Polar_PM/clay_fraction_pm',\n",
       " '/Soil_Moisture_Retrieval_Data_Polar_PM/EASE_column_index_pm',\n",
       " '/Soil_Moisture_Retrieval_Data_Polar_PM/EASE_row_index_pm',\n",
       " '/Soil_Moisture_Retrieval_Data_Polar_PM/freeze_thaw_fraction_pm',\n",
       " '/Soil_Moisture_Retrieval_Data_Polar_PM/grid_surface_status_pm',\n",
       " '/Soil_Moisture_Retrieval_Data_Polar_PM/latitude_centroid_pm',\n",
       " '/Soil_Moisture_Retrieval_Data_Polar_PM/latitude_pm',\n",
       " '/Soil_Moisture_Retrieval_Data_Polar_PM/longitude_centroid_pm',\n",
       " '/Soil_Moisture_Retrieval_Data_Polar_PM/longitude_pm',\n",
       " '/Soil_Moisture_Retrieval_Data_Polar_PM/radar_water_body_fraction_pm',\n",
       " '/Soil_Moisture_Retrieval_Data_Polar_PM/retrieval_qual_flag_dca_pm',\n",
       " '/Soil_Moisture_Retrieval_Data_Polar_PM/retrieval_qual_flag_pm',\n",
       " '/Soil_Moisture_Retrieval_Data_Polar_PM/retrieval_qual_flag_scah_pm',\n",
       " '/Soil_Moisture_Retrieval_Data_Polar_PM/retrieval_qual_flag_scav_pm',\n",
       " '/Soil_Moisture_Retrieval_Data_Polar_PM/roughness_coefficient_dca_pm',\n",
       " '/Soil_Moisture_Retrieval_Data_Polar_PM/roughness_coefficient_pm',\n",
       " '/Soil_Moisture_Retrieval_Data_Polar_PM/roughness_coefficient_scah_pm',\n",
       " '/Soil_Moisture_Retrieval_Data_Polar_PM/roughness_coefficient_scav_pm',\n",
       " '/Soil_Moisture_Retrieval_Data_Polar_PM/soil_moisture_dca_pm',\n",
       " '/Soil_Moisture_Retrieval_Data_Polar_PM/soil_moisture_error_pm',\n",
       " '/Soil_Moisture_Retrieval_Data_Polar_PM/soil_moisture_pm',\n",
       " '/Soil_Moisture_Retrieval_Data_Polar_PM/soil_moisture_scah_pm',\n",
       " '/Soil_Moisture_Retrieval_Data_Polar_PM/soil_moisture_scav_pm',\n",
       " '/Soil_Moisture_Retrieval_Data_Polar_PM/static_water_body_fraction_pm',\n",
       " '/Soil_Moisture_Retrieval_Data_Polar_PM/surface_flag_pm',\n",
       " '/Soil_Moisture_Retrieval_Data_Polar_PM/surface_temperature_pm',\n",
       " '/Soil_Moisture_Retrieval_Data_Polar_PM/surface_water_fraction_mb_h_pm',\n",
       " '/Soil_Moisture_Retrieval_Data_Polar_PM/surface_water_fraction_mb_v_pm',\n",
       " '/Soil_Moisture_Retrieval_Data_Polar_PM/tb_3_corrected_pm',\n",
       " '/Soil_Moisture_Retrieval_Data_Polar_PM/tb_4_corrected_pm',\n",
       " '/Soil_Moisture_Retrieval_Data_Polar_PM/tb_h_corrected_pm',\n",
       " '/Soil_Moisture_Retrieval_Data_Polar_PM/tb_h_uncorrected_pm',\n",
       " '/Soil_Moisture_Retrieval_Data_Polar_PM/tb_qual_flag_3_pm',\n",
       " '/Soil_Moisture_Retrieval_Data_Polar_PM/tb_qual_flag_4_pm',\n",
       " '/Soil_Moisture_Retrieval_Data_Polar_PM/tb_qual_flag_h_pm',\n",
       " '/Soil_Moisture_Retrieval_Data_Polar_PM/tb_qual_flag_v_pm',\n",
       " '/Soil_Moisture_Retrieval_Data_Polar_PM/tb_time_seconds_pm',\n",
       " '/Soil_Moisture_Retrieval_Data_Polar_PM/tb_time_utc_pm',\n",
       " '/Soil_Moisture_Retrieval_Data_Polar_PM/tb_v_corrected_pm',\n",
       " '/Soil_Moisture_Retrieval_Data_Polar_PM/tb_v_uncorrected_pm',\n",
       " '/Soil_Moisture_Retrieval_Data_Polar_PM/vegetation_opacity_dca_pm',\n",
       " '/Soil_Moisture_Retrieval_Data_Polar_PM/vegetation_opacity_pm',\n",
       " '/Soil_Moisture_Retrieval_Data_Polar_PM/vegetation_opacity_scah_pm',\n",
       " '/Soil_Moisture_Retrieval_Data_Polar_PM/vegetation_opacity_scav_pm',\n",
       " '/Soil_Moisture_Retrieval_Data_Polar_PM/vegetation_water_content_pm']"
      ]
     },
     "execution_count": 33,
     "metadata": {},
     "output_type": "execute_result"
    }
   ],
   "source": [
    "# Coberturas disponibles --> Variable 'coverages'\n",
    "\n",
    "coverages_values"
   ]
  },
  {
   "cell_type": "code",
   "execution_count": 34,
   "id": "57b9bd39",
   "metadata": {},
   "outputs": [
    {
     "data": {
      "text/plain": [
       "['Geographic',\n",
       " 'Universal Transverse Mercator',\n",
       " 'Cylindrical Equal Area',\n",
       " 'No Change',\n",
       " 'North Polar Stereographic',\n",
       " 'South Polar Stereographic']"
      ]
     },
     "execution_count": 34,
     "metadata": {},
     "output_type": "execute_result"
    }
   ],
   "source": [
    "#Proyecciones disponibles --> Variable 'projection'\n",
    "\n",
    "projections_values = [projections[i]['label'] for i in range(len(projections))]\n",
    "projections_values"
   ]
  }
 ],
 "metadata": {
  "kernelspec": {
   "display_name": "Python 3 (ipykernel)",
   "language": "python",
   "name": "python3"
  },
  "language_info": {
   "codemirror_mode": {
    "name": "ipython",
    "version": 3
   },
   "file_extension": ".py",
   "mimetype": "text/x-python",
   "name": "python",
   "nbconvert_exporter": "python",
   "pygments_lexer": "ipython3",
   "version": "3.11.6"
  }
 },
 "nbformat": 4,
 "nbformat_minor": 5
}
